{
  "nbformat": 4,
  "nbformat_minor": 0,
  "metadata": {
    "colab": {
      "provenance": [],
      "authorship_tag": "ABX9TyMAe2OTRF8IsMyJqdEPEkwr",
      "include_colab_link": true
    },
    "kernelspec": {
      "name": "python3",
      "display_name": "Python 3"
    },
    "language_info": {
      "name": "python"
    }
  },
  "cells": [
    {
      "cell_type": "markdown",
      "metadata": {
        "id": "view-in-github",
        "colab_type": "text"
      },
      "source": [
        "<a href=\"https://colab.research.google.com/github/Sayak-Rana/Data_Science/blob/main/1_Numpy_appliedai.ipynb\" target=\"_parent\"><img src=\"https://colab.research.google.com/assets/colab-badge.svg\" alt=\"Open In Colab\"/></a>"
      ]
    },
    {
      "cell_type": "code",
      "execution_count": 1,
      "metadata": {
        "id": "3yMs1R7L1jqr"
      },
      "outputs": [],
      "source": [
        "import numpy as np"
      ]
    },
    {
      "cell_type": "markdown",
      "source": [
        "Check speeds of Normal Array vs Numpy Array"
      ],
      "metadata": {
        "id": "HINvOl1q3673"
      }
    },
    {
      "cell_type": "code",
      "source": [
        "# Python Lists\n",
        "L = range(1000)\n",
        "%timeit [i**2 for i in L]\n",
        "\n",
        "# Numpy Array\n",
        "a = np.arange(1000)\n",
        "%timeit [i**2 for i in a] # Traverse Numpy arrays and doing calc\n",
        "# Non -vectorized operation (slowest)\n",
        "# Actually using Numpy arrays\n",
        "\n",
        "%timeit a**2 #Vectorized operations fastest\n",
        "\n",
        "# Shows how Numpy array is much faster"
      ],
      "metadata": {
        "colab": {
          "base_uri": "https://localhost:8080/"
        },
        "id": "wHd6Xqrf4Ael",
        "outputId": "3357a732-6be6-4c46-d466-cc6a41fa446e"
      },
      "execution_count": null,
      "outputs": [
        {
          "output_type": "stream",
          "name": "stdout",
          "text": [
            "68.8 µs ± 5.49 µs per loop (mean ± std. dev. of 7 runs, 10000 loops each)\n",
            "175 µs ± 98.8 µs per loop (mean ± std. dev. of 7 runs, 10000 loops each)\n",
            "2.54 µs ± 276 ns per loop (mean ± std. dev. of 7 runs, 100000 loops each)\n"
          ]
        }
      ]
    },
    {
      "cell_type": "markdown",
      "source": [
        "Create Numpy array methods"
      ],
      "metadata": {
        "id": "udg5OmgTzRbm"
      }
    },
    {
      "cell_type": "code",
      "source": [
        "# Method-1\n",
        "arr1 = np.array([3,4,5,6,7])\n",
        "print(arr1)"
      ],
      "metadata": {
        "colab": {
          "base_uri": "https://localhost:8080/"
        },
        "id": "kW01B2vOzYKB",
        "outputId": "571bfffc-38bb-44eb-a340-c3bd636a46a1"
      },
      "execution_count": 12,
      "outputs": [
        {
          "output_type": "stream",
          "name": "stdout",
          "text": [
            "[3 4 5 6 7]\n"
          ]
        }
      ]
    },
    {
      "cell_type": "code",
      "source": [
        "# Method-2\n",
        "arr2 = np.arange(10) # This basically creates a list starting from 0 to 9\n",
        "print(arr2)"
      ],
      "metadata": {
        "colab": {
          "base_uri": "https://localhost:8080/"
        },
        "id": "vqqqXpfO5hJU",
        "outputId": "402a0d09-9803-41a1-f259-19dc28cec2c6"
      },
      "execution_count": 14,
      "outputs": [
        {
          "output_type": "stream",
          "name": "stdout",
          "text": [
            "[0 1 2 3 4 5 6 7 8 9]\n"
          ]
        }
      ]
    },
    {
      "cell_type": "code",
      "source": [
        "# Method-3\n",
        "arr3 = np.arange(10,20) # This basically creates a list starting from 10 to 19\n",
        "print(arr3)"
      ],
      "metadata": {
        "colab": {
          "base_uri": "https://localhost:8080/"
        },
        "id": "5_0M88SP5ls_",
        "outputId": "558ec20f-5531-4cdf-f5f0-b41a73057a2d"
      },
      "execution_count": 15,
      "outputs": [
        {
          "output_type": "stream",
          "name": "stdout",
          "text": [
            "[10 11 12 13 14 15 16 17 18 19]\n"
          ]
        }
      ]
    },
    {
      "cell_type": "code",
      "source": [
        "# Method-4\n",
        "arr4 = np.arange(10,20,2) # This basically creates a list starting from 10 to 19 with a step of 2\n",
        "print(arr4)"
      ],
      "metadata": {
        "colab": {
          "base_uri": "https://localhost:8080/"
        },
        "id": "Yx8UTlUk5q1k",
        "outputId": "299c1020-824e-431e-92ee-e8d5d887c0bf"
      },
      "execution_count": 16,
      "outputs": [
        {
          "output_type": "stream",
          "name": "stdout",
          "text": [
            "[10 12 14 16 18]\n"
          ]
        }
      ]
    },
    {
      "cell_type": "code",
      "source": [
        "# Method-5\n",
        "arr5 = np.linspace(10,20,5) # This basically creates a list starting from 10 to 20 with 5 elements\n",
        "# maintaining a uniform spacing between all\n",
        "print(arr5)"
      ],
      "metadata": {
        "colab": {
          "base_uri": "https://localhost:8080/"
        },
        "id": "yTaoACuU5wgX",
        "outputId": "acaf6151-fbef-4541-ebf4-6f1237440cf4"
      },
      "execution_count": 17,
      "outputs": [
        {
          "output_type": "stream",
          "name": "stdout",
          "text": [
            "[10.  12.5 15.  17.5 20. ]\n"
          ]
        }
      ]
    },
    {
      "cell_type": "code",
      "source": [
        "# for n-dim arrays function arguments need to be (tuples)\n",
        "# Method-6\n",
        "arr6 = np.empty(3) # Creates 1D array with three random numbers.\n",
        "print(arr6)"
      ],
      "metadata": {
        "colab": {
          "base_uri": "https://localhost:8080/"
        },
        "id": "4NhHH5I75zpd",
        "outputId": "397533e2-cd10-48bc-b58f-3193dea3a5f7"
      },
      "execution_count": 18,
      "outputs": [
        {
          "output_type": "stream",
          "name": "stdout",
          "text": [
            "[0.  0.5 1. ]\n"
          ]
        }
      ]
    },
    {
      "cell_type": "code",
      "source": [
        "# Method-7\n",
        "arr7 = np.empty((2,3)) # Creates 2D array with random numbers (Garbage values)\n",
        "print(arr7)"
      ],
      "metadata": {
        "colab": {
          "base_uri": "https://localhost:8080/"
        },
        "id": "PjT98XUB54SE",
        "outputId": "f55c2a27-6b79-48a5-89cc-2730cb77a769"
      },
      "execution_count": 19,
      "outputs": [
        {
          "output_type": "stream",
          "name": "stdout",
          "text": [
            "[[1. 1. 1.]\n",
            " [1. 1. 1.]]\n"
          ]
        }
      ]
    },
    {
      "cell_type": "code",
      "source": [
        "# Method-8\n",
        "arr8 = np.zeros((3,2)) # 2D rray with all zeroes\n",
        "print(arr8)"
      ],
      "metadata": {
        "colab": {
          "base_uri": "https://localhost:8080/"
        },
        "id": "oeVCOOn6580k",
        "outputId": "eb61a873-ddaa-4059-df34-553425da2d81"
      },
      "execution_count": 20,
      "outputs": [
        {
          "output_type": "stream",
          "name": "stdout",
          "text": [
            "[[0. 0.]\n",
            " [0. 0.]\n",
            " [0. 0.]]\n"
          ]
        }
      ]
    },
    {
      "cell_type": "code",
      "source": [
        "# Method-9\n",
        "arr9 = np.ones((3,2)) # 2D rray with all zeroes\n",
        "print(arr9)"
      ],
      "metadata": {
        "colab": {
          "base_uri": "https://localhost:8080/"
        },
        "id": "_VCsg66r6AEl",
        "outputId": "7db2a949-a485-4ed6-9166-4151560ff8d5"
      },
      "execution_count": 21,
      "outputs": [
        {
          "output_type": "stream",
          "name": "stdout",
          "text": [
            "[[1. 1.]\n",
            " [1. 1.]\n",
            " [1. 1.]]\n"
          ]
        }
      ]
    },
    {
      "cell_type": "code",
      "source": [
        "# Method-10\n",
        "arr10 = np.eye(3) # 3*3 Identity Matrix\n",
        "print(arr10)"
      ],
      "metadata": {
        "colab": {
          "base_uri": "https://localhost:8080/"
        },
        "id": "zmT4nzKK6ERo",
        "outputId": "f3e63e78-8476-4ba8-b252-624c28df92f7"
      },
      "execution_count": 22,
      "outputs": [
        {
          "output_type": "stream",
          "name": "stdout",
          "text": [
            "[[1. 0. 0.]\n",
            " [0. 1. 0.]\n",
            " [0. 0. 1.]]\n"
          ]
        }
      ]
    },
    {
      "cell_type": "code",
      "source": [
        "# Method-11\n",
        "# arr11 = np.eye((3,2)) # Here it is wrong as eye don't expect tuples\n",
        "arr11 = np.eye(3,2) # Correct, 3 is no of rows , 2 is no of columns\n",
        "print(arr11)"
      ],
      "metadata": {
        "colab": {
          "base_uri": "https://localhost:8080/"
        },
        "id": "WeOx1vTW6GwK",
        "outputId": "55579159-0a57-43ca-e301-57b36b0095c1"
      },
      "execution_count": 23,
      "outputs": [
        {
          "output_type": "stream",
          "name": "stdout",
          "text": [
            "[[1. 0.]\n",
            " [0. 1.]\n",
            " [0. 0.]]\n"
          ]
        }
      ]
    },
    {
      "cell_type": "code",
      "source": [
        "# Method-12\n",
        "arr12 = np.diag([1,2,3,4])\n",
        "print(arr12) #creates a matric with these diagonal elements\n",
        "L= np.diag(arr12) #returns the diagonal as list\n",
        "for i in range(len(L)):\n",
        "  print(L[i],end=\" \")\n",
        "np.trace(arr12) #returns the sum of diagonal elements"
      ],
      "metadata": {
        "colab": {
          "base_uri": "https://localhost:8080/"
        },
        "id": "u876UDAT6SYi",
        "outputId": "b6831dfe-4864-4438-8fed-0f4b98850e0b"
      },
      "execution_count": 28,
      "outputs": [
        {
          "output_type": "stream",
          "name": "stdout",
          "text": [
            "[[1 0 0 0]\n",
            " [0 2 0 0]\n",
            " [0 0 3 0]\n",
            " [0 0 0 4]]\n",
            "1 2 3 4 "
          ]
        },
        {
          "output_type": "execute_result",
          "data": {
            "text/plain": [
              "np.int64(10)"
            ]
          },
          "metadata": {},
          "execution_count": 28
        }
      ]
    },
    {
      "cell_type": "code",
      "source": [
        "# Creating Random numbers\n",
        "\n",
        "# arr13 = np.random.rand((2,3)) # wrong no tuple expected\n",
        "arr13 = np.random.rand(2,3) # Correct\n",
        "print(arr13) # Follows Uniform Dist"
      ],
      "metadata": {
        "colab": {
          "base_uri": "https://localhost:8080/"
        },
        "id": "p5mVW2537MLK",
        "outputId": "707751fa-4039-408f-9c90-83af6c8a6517"
      },
      "execution_count": 30,
      "outputs": [
        {
          "output_type": "stream",
          "name": "stdout",
          "text": [
            "[[0.12336914 0.83743724 0.391135  ]\n",
            " [0.79454826 0.36312829 0.37193921]]\n"
          ]
        }
      ]
    },
    {
      "cell_type": "code",
      "source": [
        "arr14 = np.random.randn(2,3) # Correct\n",
        "print(arr14) # Follows Standard Normal Dist"
      ],
      "metadata": {
        "colab": {
          "base_uri": "https://localhost:8080/"
        },
        "id": "vJfWumnD7-s4",
        "outputId": "06b7c858-e14b-42a9-973f-a92f187d108d"
      },
      "execution_count": 31,
      "outputs": [
        {
          "output_type": "stream",
          "name": "stdout",
          "text": [
            "[[-1.24472762  1.41842628 -0.84438451]\n",
            " [ 0.05826264  0.92690525 -0.72116298]]\n"
          ]
        }
      ]
    },
    {
      "cell_type": "markdown",
      "source": [],
      "metadata": {
        "id": "mpTVOR3xxCLk"
      }
    },
    {
      "cell_type": "markdown",
      "source": [
        "Create 2D array"
      ],
      "metadata": {
        "id": "vpDYN2dO30yk"
      }
    },
    {
      "cell_type": "code",
      "source": [
        "arr2d = np.array([[1,2,3],[4,5,6],[7,8,9]])\n",
        "print(arr2d)\n",
        "\n",
        "print(len(arr2d)) # Prints no. of rows\n",
        "\n",
        "print(arr2d.ndim) # Prints the dimension which is 2\n",
        "\n",
        "print(arr2d.shape) #Prints the shape of the matrix like 3*3\n",
        "\n",
        "print(arr2d.size) # Prints the total no. of elements\n",
        "\n",
        "print(arr2d.dtype) # Prints the data type"
      ],
      "metadata": {
        "colab": {
          "base_uri": "https://localhost:8080/"
        },
        "id": "FysbRowg5sGM",
        "outputId": "7762ef87-80e5-4c15-eedb-2f49c2a0b901"
      },
      "execution_count": null,
      "outputs": [
        {
          "output_type": "stream",
          "name": "stdout",
          "text": [
            "[[1 2 3]\n",
            " [4 5 6]\n",
            " [7 8 9]]\n",
            "3\n",
            "2\n",
            "(3, 3)\n",
            "9\n",
            "int64\n"
          ]
        }
      ]
    },
    {
      "cell_type": "markdown",
      "source": [
        "Create a 3D array"
      ],
      "metadata": {
        "id": "1vt2JO5g0CDh"
      }
    },
    {
      "cell_type": "code",
      "source": [
        "# arr3d = np.array([[1,2],[3,4]],[[6,7,8],[9,10]]) # this can't be done like [6,7,8] consists of 3 elements\n",
        "# arr3d = np.array([[[1,2],[3,4]],[[6,7],[8,9],[10,11]]]) # Wrong as arr3d[1] no of elements is actually 3 it must be uniform so 2.\n",
        "arr3d = np.array([[[1,2,3],[3,4,5]],[[5,6,7],[7,8,9]]]) # Correct\n",
        "print(arr3d)\n",
        "\n",
        "print(len(arr3d)) # Prints length of arr3d\n",
        "\n",
        "print(arr3d[0].size) # prints total no of elements\n",
        "\n",
        "print(arr3d.ndim) # Prints the dimension which is 3\n",
        "\n",
        "print(arr3d.shape) #Prints the shape of the matrix like 2*(2*3) => () is each individual 2*3 matrix and there are 2 such\n",
        "\n",
        "print(arr3d[1].shape)"
      ],
      "metadata": {
        "colab": {
          "base_uri": "https://localhost:8080/"
        },
        "id": "dBzJSukL0sO7",
        "outputId": "6620fcf5-e488-47a9-8ab5-63391fde1ec9"
      },
      "execution_count": 9,
      "outputs": [
        {
          "output_type": "stream",
          "name": "stdout",
          "text": [
            "[[[1 2 3]\n",
            "  [3 4 5]]\n",
            "\n",
            " [[5 6 7]\n",
            "  [7 8 9]]]\n",
            "2\n",
            "6\n",
            "3\n",
            "(2, 2, 3)\n",
            "(2, 3)\n"
          ]
        }
      ]
    },
    {
      "cell_type": "markdown",
      "source": [
        "Basic Data types"
      ],
      "metadata": {
        "id": "90E2eEk2324S"
      }
    },
    {
      "cell_type": "code",
      "source": [
        "a = np.arange(10)\n",
        "print(a.dtype)\n",
        "\n",
        "b = np.arange(10,dtype=\"float64\")\n",
        "print(b.dtype) # Changes dtype to float\n",
        "\n",
        "c = np.zeros((3,3))\n",
        "print(c.dtype) # By default these support float dtype\n",
        "# same goes for np.ones\n",
        "\n",
        "d = np.array([1+2j, 3+4j])\n",
        "print(d.dtype)\n",
        "\n",
        "e = np.array(['Ram', 'Robert', 'Rahim'])\n",
        "print(e.dtype)\n",
        "\n",
        "f = np.array([True, False])\n",
        "print(f.dtype)"
      ],
      "metadata": {
        "colab": {
          "base_uri": "https://localhost:8080/"
        },
        "id": "34DAHR1s383v",
        "outputId": "67449d05-7d2e-4669-fb80-45ab848d4587"
      },
      "execution_count": 34,
      "outputs": [
        {
          "output_type": "stream",
          "name": "stdout",
          "text": [
            "int64\n",
            "float64\n",
            "float64\n",
            "complex128\n",
            "<U6\n",
            "bool\n"
          ]
        }
      ]
    },
    {
      "cell_type": "markdown",
      "source": [
        "Indexing and Slicing"
      ],
      "metadata": {
        "id": "s57Zc8xd9uge"
      }
    },
    {
      "cell_type": "code",
      "source": [
        "a = np.arange(10,20)\n",
        "print(a)\n",
        "print(a[2]) # third element\n",
        "\n",
        "b = np.diag([1,2,3])\n",
        "print(b)\n",
        "b[2,1] = 5 # 3rd row, 2nd col\n",
        "print(b)\n",
        "print(b[2][2])\n",
        "print(b[2,2]) # these two indexing are identical indicates 3rd row, 3rd col"
      ],
      "metadata": {
        "colab": {
          "base_uri": "https://localhost:8080/"
        },
        "id": "agR-sVW89wgd",
        "outputId": "5db845b2-5a3c-4c82-bed0-dd8a9660b12d"
      },
      "execution_count": 47,
      "outputs": [
        {
          "output_type": "stream",
          "name": "stdout",
          "text": [
            "[10 11 12 13 14 15 16 17 18 19]\n",
            "12\n",
            "[[1 0 0]\n",
            " [0 2 0]\n",
            " [0 0 3]]\n",
            "[[1 0 0]\n",
            " [0 2 0]\n",
            " [0 5 3]]\n",
            "3\n",
            "3\n"
          ]
        }
      ]
    },
    {
      "cell_type": "code",
      "source": [
        "# Knowledge\n",
        "# Create 2D array with random numbers in python without numpy\n",
        "import random\n",
        "\n",
        "c = []\n",
        "for i in range(3):\n",
        "  temp = []\n",
        "  for j in range(4):\n",
        "    temp.append(random.randint(1,10))\n",
        "  c.append(temp)\n",
        "print(c)\n",
        "\n",
        "# 3D array\n",
        "c = []\n",
        "for i in range(2):\n",
        "  temp1 = []\n",
        "  for j in range(3):\n",
        "    temp2 = []\n",
        "    for k in range(4):\n",
        "      temp2.append(random.randint(1,10))\n",
        "    temp1.append(temp2)\n",
        "  c.append(temp1)\n",
        "print(c)\n",
        "\n",
        "# Using List comprehension\n",
        "c = [[[random.randint(1,10) for k in range(4)]for j in range(3)]for i in range(2)]\n",
        "print(c)\n",
        "# You could have used random.random() or random.uniform(a,b)\n",
        "\n",
        "# Convert list to NumPy array to access the shape attribute\n",
        "c_np = np.array(c)\n",
        "print(c_np.shape)"
      ],
      "metadata": {
        "colab": {
          "base_uri": "https://localhost:8080/"
        },
        "id": "O1H3atAkBeZO",
        "outputId": "9dc7240b-fdb0-4efb-882f-c48162d0ce7e"
      },
      "execution_count": 50,
      "outputs": [
        {
          "output_type": "stream",
          "name": "stdout",
          "text": [
            "[[6, 8, 10, 2], [4, 2, 6, 2], [7, 8, 3, 1]]\n",
            "[[[4, 4, 1, 9], [3, 4, 4, 7], [8, 7, 8, 1]], [[8, 7, 3, 8], [9, 9, 2, 1], [7, 7, 3, 1]]]\n",
            "[[[10, 7, 4, 8], [3, 2, 5, 1], [2, 7, 3, 4]], [[6, 9, 9, 5], [9, 10, 3, 6], [7, 7, 9, 8]]]\n",
            "(2, 3, 4)\n"
          ]
        }
      ]
    },
    {
      "cell_type": "code",
      "source": [
        "# slicing (Normal Python slicing)\n",
        "a = np.arange(10)\n",
        "print(a)\n",
        "print(a[1:9:2]) # [start:end+1:step]"
      ],
      "metadata": {
        "colab": {
          "base_uri": "https://localhost:8080/"
        },
        "id": "IdzQ8dyC-20-",
        "outputId": "8a12dfe1-ee8a-4238-a00f-0d021152e749"
      },
      "execution_count": 62,
      "outputs": [
        {
          "output_type": "stream",
          "name": "stdout",
          "text": [
            "[0 1 2 3 4 5 6 7 8 9]\n",
            "[1 3 5 7]\n"
          ]
        }
      ]
    },
    {
      "cell_type": "code",
      "source": [
        "b = np.arange(3)\n",
        "print(b)\n",
        "a[8:] = b[::-1][:2] #first reversing and then taking first two\n",
        "print(a)"
      ],
      "metadata": {
        "colab": {
          "base_uri": "https://localhost:8080/"
        },
        "id": "lupd5Wu6Ey_Z",
        "outputId": "dfa29727-806b-4442-a98e-846bd050c15f"
      },
      "execution_count": 64,
      "outputs": [
        {
          "output_type": "stream",
          "name": "stdout",
          "text": [
            "[0 1 2]\n",
            "[0 1 2 3 4 5 6 7 2 1]\n"
          ]
        }
      ]
    },
    {
      "cell_type": "markdown",
      "source": [
        "Creating Views"
      ],
      "metadata": {
        "id": "hNZ9EyK2OsDb"
      }
    },
    {
      "cell_type": "code",
      "source": [
        "a = np.arange(10)\n",
        "print(a)\n",
        "\n",
        "b = a[::2]\n",
        "print(b)\n",
        "\n",
        "print(np.shares_memory(a,b))\n",
        "# True indicates that they point to same memory location\n",
        "# So changes in b will also change a\n",
        "\n",
        "b[0] = 10\n",
        "print(b)\n",
        "print(a)"
      ],
      "metadata": {
        "colab": {
          "base_uri": "https://localhost:8080/"
        },
        "id": "647xcJKjOWCm",
        "outputId": "80678250-5327-4cf6-aaff-8aff4ce2c4d7"
      },
      "execution_count": 65,
      "outputs": [
        {
          "output_type": "stream",
          "name": "stdout",
          "text": [
            "[0 1 2 3 4 5 6 7 8 9]\n",
            "[0 2 4 6 8]\n",
            "True\n",
            "[10  2  4  6  8]\n",
            "[10  1  2  3  4  5  6  7  8  9]\n"
          ]
        }
      ]
    },
    {
      "cell_type": "code",
      "source": [
        "# Avoid this using clone or copy function\n",
        "c = a[::2].copy()\n",
        "# In Pytorch .clone() method exists\n",
        "\n",
        "print(c)\n",
        "print(np.shares_memory(a,c))\n",
        "\n",
        "c[0] = 12\n",
        "print(c)\n",
        "print(a)"
      ],
      "metadata": {
        "colab": {
          "base_uri": "https://localhost:8080/"
        },
        "id": "IVX9Sd9qPOTP",
        "outputId": "48dea8f0-63ee-4727-804e-bc9279a212f8"
      },
      "execution_count": 67,
      "outputs": [
        {
          "output_type": "stream",
          "name": "stdout",
          "text": [
            "[10  2  4  6  8]\n",
            "False\n",
            "[12  2  4  6  8]\n",
            "[10  1  2  3  4  5  6  7  8  9]\n"
          ]
        }
      ]
    },
    {
      "cell_type": "markdown",
      "source": [
        "Fancy Indexing (Mask)"
      ],
      "metadata": {
        "id": "4mx3nYQfQfZK"
      }
    },
    {
      "cell_type": "code",
      "source": [
        "a = np.random.randint(10,30,15) # (start, end+1, no of numbers)\n",
        "print(a)\n",
        "mask = (a % 2 == 0)\n",
        "extract_a = a[mask]\n",
        "print(extract_a)\n",
        "# Mask Creates copies not views\n",
        "\n",
        "a[mask] = -1 #replace all even numbers with -1\n",
        "print(a)"
      ],
      "metadata": {
        "colab": {
          "base_uri": "https://localhost:8080/"
        },
        "id": "d9mUQ5-VQe2c",
        "outputId": "59c15404-96c3-4f7c-8917-1fb79c98786f"
      },
      "execution_count": 72,
      "outputs": [
        {
          "output_type": "stream",
          "name": "stdout",
          "text": [
            "[21 15 18 28 23 20 27 26 26 23 27 20 20 27 20]\n",
            "[18 28 20 26 26 20 20 20]\n",
            "[21 15 -1 -1 23 -1 27 -1 -1 23 27 -1 -1 27 -1]\n"
          ]
        }
      ]
    },
    {
      "cell_type": "code",
      "source": [
        "print(a)\n",
        "b = a[[2,10,2,4]] # b is list consisting of a's 2,310,2,4 indexes\n",
        "print(b)\n",
        "\n",
        "a[[2,3]] = -1000\n",
        "print(a) # We can also assign in this way"
      ],
      "metadata": {
        "colab": {
          "base_uri": "https://localhost:8080/"
        },
        "id": "ZHnVjhxPRzRc",
        "outputId": "73ca9e82-7155-4807-8bde-4d27dbfe9544"
      },
      "execution_count": 78,
      "outputs": [
        {
          "output_type": "stream",
          "name": "stdout",
          "text": [
            "[21 15 -1 -1 23 -1 27 -1 -1 23 27 -1 -1 27 -1]\n",
            "[-1 27 -1 23]\n",
            "[   21    15 -1000 -1000    23    -1    27    -1    -1    23    27    -1\n",
            "    -1    27    -1]\n"
          ]
        }
      ]
    }
  ]
}